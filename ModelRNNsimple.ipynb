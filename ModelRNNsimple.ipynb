{
 "cells": [
  {
   "cell_type": "code",
   "execution_count": 1,
   "id": "2f47b195",
   "metadata": {},
   "outputs": [],
   "source": [
    "\n",
    "import numpy as np\n",
    "import pandas as pd\n",
    "from tensorflow.keras.preprocessing import sequence\n",
    "from tensorflow.keras.models import Sequential\n",
    "from tensorflow.keras.layers import Dense, Dropout, Embedding, SimpleRNN\n",
    "from keras.datasets import imdb\n",
    "from keras.callbacks import TensorBoard\n",
    "from sklearn.metrics import mean_squared_error, r2_score"
   ]
  },
  {
   "cell_type": "code",
   "execution_count": 23,
   "id": "12cf0ae1",
   "metadata": {},
   "outputs": [],
   "source": [
    "max_features = 50000\n",
    "no_classes = 1\n",
    "max_length = 100\n",
    "batch_size = 64\n",
    "embedding_size = 64\n",
    "dropout_rate = 0.5\n",
    "hidden_layer_size = 250\n",
    "no_epochs = 20"
   ]
  },
  {
   "cell_type": "code",
   "execution_count": 24,
   "id": "9f76a73f",
   "metadata": {},
   "outputs": [
    {
     "name": "stdout",
     "output_type": "stream",
     "text": [
      "Data loaded successfully.\n",
      "# Train Data =  25000\n",
      "# Test Data =  25000\n"
     ]
    }
   ],
   "source": [
    "(x_train, y_train), (x_test, y_test) = imdb.load_data(num_words=max_features)\n",
    "print('Data loaded successfully.')\n",
    "print('# Train Data = ', len(x_train))\n",
    "print('# Test Data = ', len(x_test))"
   ]
  },
  {
   "cell_type": "code",
   "execution_count": 25,
   "id": "3728a0e3",
   "metadata": {},
   "outputs": [
    {
     "name": "stdout",
     "output_type": "stream",
     "text": [
      "Preprocessing Data..\n"
     ]
    }
   ],
   "source": [
    "print('Preprocessing Data..')\n",
    "x_train = sequence.pad_sequences(x_train, maxlen=max_length)\n",
    "x_test = sequence.pad_sequences(x_test, maxlen=max_length)"
   ]
  },
  {
   "cell_type": "code",
   "execution_count": 26,
   "id": "50f683b0",
   "metadata": {},
   "outputs": [],
   "source": [
    "RNN_model = Sequential()\n",
    "# Add Embedding layer\n",
    "RNN_model.add(Embedding(max_features, embedding_size, input_length=max_length))\n",
    "RNN_model.add(Dropout(dropout_rate))\n",
    "# Add Simple RNN layer\n",
    "RNN_model.add(SimpleRNN(25, input_shape=(3, 1)))\n",
    "\n",
    "# Add Dense Hidden Layer\n",
    "RNN_model.add(Dense(hidden_layer_size, activation='relu'))\n",
    "RNN_model.add(Dropout(dropout_rate))\n",
    "# Output Layer\n",
    "RNN_model.add(Dense(no_classes, activation='sigmoid'))\n",
    "\n",
    "# Configure model\n",
    "RNN_model.compile(loss='binary_crossentropy', optimizer='adam', metrics=['accuracy'])"
   ]
  },
  {
   "cell_type": "code",
   "execution_count": 27,
   "id": "497332be",
   "metadata": {},
   "outputs": [
    {
     "name": "stdout",
     "output_type": "stream",
     "text": [
      "Training the model..\n",
      "Epoch 1/20\n",
      "391/391 - 27s - 69ms/step - accuracy: 0.7261 - loss: 0.5129 - val_accuracy: 0.8357 - val_loss: 0.3809\n",
      "Epoch 2/20\n",
      "391/391 - 23s - 59ms/step - accuracy: 0.8793 - loss: 0.3006 - val_accuracy: 0.8404 - val_loss: 0.3752\n",
      "Epoch 3/20\n",
      "391/391 - 21s - 55ms/step - accuracy: 0.9217 - loss: 0.2134 - val_accuracy: 0.8396 - val_loss: 0.4042\n",
      "Epoch 4/20\n",
      "391/391 - 22s - 57ms/step - accuracy: 0.9437 - loss: 0.1567 - val_accuracy: 0.8366 - val_loss: 0.4601\n",
      "Epoch 5/20\n",
      "391/391 - 23s - 58ms/step - accuracy: 0.9624 - loss: 0.1083 - val_accuracy: 0.8290 - val_loss: 0.5358\n",
      "Epoch 6/20\n",
      "391/391 - 22s - 56ms/step - accuracy: 0.9710 - loss: 0.0828 - val_accuracy: 0.8198 - val_loss: 0.7327\n",
      "Epoch 7/20\n",
      "391/391 - 23s - 58ms/step - accuracy: 0.9732 - loss: 0.0758 - val_accuracy: 0.8122 - val_loss: 0.7465\n",
      "Epoch 8/20\n",
      "391/391 - 24s - 60ms/step - accuracy: 0.9778 - loss: 0.0610 - val_accuracy: 0.8226 - val_loss: 0.7632\n",
      "Epoch 9/20\n",
      "391/391 - 23s - 59ms/step - accuracy: 0.9844 - loss: 0.0462 - val_accuracy: 0.8134 - val_loss: 0.9083\n",
      "Epoch 10/20\n",
      "391/391 - 21s - 55ms/step - accuracy: 0.9858 - loss: 0.0430 - val_accuracy: 0.8145 - val_loss: 0.7424\n",
      "Epoch 11/20\n",
      "391/391 - 22s - 55ms/step - accuracy: 0.9848 - loss: 0.0430 - val_accuracy: 0.8098 - val_loss: 0.8128\n",
      "Epoch 12/20\n",
      "391/391 - 22s - 57ms/step - accuracy: 0.9833 - loss: 0.0458 - val_accuracy: 0.8137 - val_loss: 0.9365\n",
      "Epoch 13/20\n",
      "391/391 - 28s - 71ms/step - accuracy: 0.9903 - loss: 0.0286 - val_accuracy: 0.8106 - val_loss: 0.9803\n",
      "Epoch 14/20\n",
      "391/391 - 25s - 63ms/step - accuracy: 0.9880 - loss: 0.0350 - val_accuracy: 0.8170 - val_loss: 0.9590\n",
      "Epoch 15/20\n",
      "391/391 - 24s - 61ms/step - accuracy: 0.9888 - loss: 0.0312 - val_accuracy: 0.8076 - val_loss: 1.1568\n",
      "Epoch 16/20\n",
      "391/391 - 25s - 63ms/step - accuracy: 0.9900 - loss: 0.0288 - val_accuracy: 0.8067 - val_loss: 1.1585\n",
      "Epoch 17/20\n",
      "391/391 - 23s - 58ms/step - accuracy: 0.9896 - loss: 0.0314 - val_accuracy: 0.8094 - val_loss: 1.1590\n",
      "Epoch 18/20\n",
      "391/391 - 22s - 55ms/step - accuracy: 0.9914 - loss: 0.0272 - val_accuracy: 0.8192 - val_loss: 0.9229\n",
      "Epoch 19/20\n",
      "391/391 - 22s - 56ms/step - accuracy: 0.9886 - loss: 0.0334 - val_accuracy: 0.8111 - val_loss: 1.0056\n",
      "Epoch 20/20\n",
      "391/391 - 22s - 56ms/step - accuracy: 0.9916 - loss: 0.0245 - val_accuracy: 0.8124 - val_loss: 1.0303\n"
     ]
    },
    {
     "data": {
      "text/plain": [
       "<keras.src.callbacks.history.History at 0x27c4b095280>"
      ]
     },
     "execution_count": 27,
     "metadata": {},
     "output_type": "execute_result"
    }
   ],
   "source": [
    "tensorboard = TensorBoard('./logs/SimpleRNN')\n",
    "\n",
    "# Train!\n",
    "print('Training the model..')\n",
    "RNN_model.fit(x_train, y_train, batch_size=batch_size, verbose=2, epochs=no_epochs, validation_data=(x_test, y_test), callbacks = [tensorboard])"
   ]
  },
  {
   "cell_type": "code",
   "execution_count": 28,
   "id": "44a2ea27",
   "metadata": {},
   "outputs": [
    {
     "name": "stdout",
     "output_type": "stream",
     "text": [
      "\u001b[1m782/782\u001b[0m \u001b[32m━━━━━━━━━━━━━━━━━━━━\u001b[0m\u001b[37m\u001b[0m \u001b[1m7s\u001b[0m 8ms/step\n"
     ]
    }
   ],
   "source": [
    "y_predict=RNN_model.predict(x_test)"
   ]
  },
  {
   "cell_type": "code",
   "execution_count": 29,
   "id": "9ce88cef",
   "metadata": {},
   "outputs": [
    {
     "name": "stdout",
     "output_type": "stream",
     "text": [
      "\u001b[1m25000/25000\u001b[0m \u001b[32m━━━━━━━━━━━━━━━━━━━━\u001b[0m\u001b[37m\u001b[0m \u001b[1m178s\u001b[0m 7ms/step - accuracy: 0.8128 - loss: 1.0301\n",
      "Test Loss: 1.0302555561065674\n",
      "Test Accuracy: 0.8124399781227112\n"
     ]
    }
   ],
   "source": [
    "loss, accuracy = RNN_model.evaluate(x_test, y_test, batch_size=1)\n",
    "print(f\"Test Loss: {loss}\")\n",
    "print(f\"Test Accuracy: {accuracy}\")"
   ]
  },
  {
   "cell_type": "code",
   "execution_count": 30,
   "id": "eb883e5a",
   "metadata": {},
   "outputs": [],
   "source": [
    "import numpy as np\n",
    "y_pred_classes = np.argmax(y_predict, axis=1)\n",
    "\n",
    "# Si vos y_test sont one-hot, convertir en entiers :\n",
    "if len(y_test.shape) > 1 and y_test.shape[1] > 1:\n",
    "    y_test_classes = np.argmax(y_test, axis=1)\n",
    "else:\n",
    "    y_test_classes = y_test"
   ]
  },
  {
   "cell_type": "code",
   "execution_count": 32,
   "id": "8232223f",
   "metadata": {},
   "outputs": [
    {
     "data": {
      "image/png": "[encoded data removed]",
      "text/plain": [
       "<Figure size 800x600 with 2 Axes>"
      ]
     },
     "metadata": {},
     "output_type": "display_data"
    },
    {
     "name": "stdout",
     "output_type": "stream",
     "text": [
      "              precision    recall  f1-score   support\n",
      "\n",
      "           0       0.50      1.00      0.67     12500\n",
      "           1       0.00      0.00      0.00     12500\n",
      "\n",
      "    accuracy                           0.50     25000\n",
      "   macro avg       0.25      0.50      0.33     25000\n",
      "weighted avg       0.25      0.50      0.33     25000\n",
      "\n"
     ]
    },
    {
     "name": "stderr",
     "output_type": "stream",
     "text": [
      "c:\\ProgramData\\anaconda3\\Lib\\site-packages\\sklearn\\metrics\\_classification.py:1531: UndefinedMetricWarning: Precision is ill-defined and being set to 0.0 in labels with no predicted samples. Use `zero_division` parameter to control this behavior.\n",
      "  _warn_prf(average, modifier, f\"{metric.capitalize()} is\", len(result))\n",
      "c:\\ProgramData\\anaconda3\\Lib\\site-packages\\sklearn\\metrics\\_classification.py:1531: UndefinedMetricWarning: Precision is ill-defined and being set to 0.0 in labels with no predicted samples. Use `zero_division` parameter to control this behavior.\n",
      "  _warn_prf(average, modifier, f\"{metric.capitalize()} is\", len(result))\n",
      "c:\\ProgramData\\anaconda3\\Lib\\site-packages\\sklearn\\metrics\\_classification.py:1531: UndefinedMetricWarning: Precision is ill-defined and being set to 0.0 in labels with no predicted samples. Use `zero_division` parameter to control this behavior.\n",
      "  _warn_prf(average, modifier, f\"{metric.capitalize()} is\", len(result))\n"
     ]
    }
   ],
   "source": [
    "import matplotlib.pyplot as plt\n",
    "import seaborn as sns\n",
    "from sklearn.metrics import classification_report, confusion_matrix\n",
    "cm = confusion_matrix(y_test_classes, y_pred_classes)\n",
    "plt.figure(figsize=(8,6))\n",
    "sns.heatmap(cm, annot=True, fmt='d', cmap='Blues')\n",
    "plt.xlabel('Prédit')\n",
    "plt.ylabel('Vrai')\n",
    "plt.title('Matrice de confusion')\n",
    "plt.show()\n",
    "\n",
    "# Rapport de classification\n",
    "print(classification_report(y_test_classes, y_pred_classes))"
   ]
  },
  {
   "cell_type": "code",
   "execution_count": 34,
   "id": "a84bf59e",
   "metadata": {},
   "outputs": [],
   "source": [
    "from keras.preprocessing.sequence import pad_sequences\n",
    "\n",
    "def encode_text(text, word_index, maxlen=500):\n",
    "    # Nettoyage simple (optionnel mais conseillé)\n",
    "    text = text.lower().replace(\",\", \"\").replace(\".\", \"\").replace(\"(\", \"\").replace(\")\", \"\").replace(\"'\", \"\").split()\n",
    "\n",
    "    # Convertir les mots en indices IMDB (on ajoute +3 car Keras réserve 0=padding, 1=start, 2=unk, 3=unused)\n",
    "    encoded = []\n",
    "    for word in text:\n",
    "        index = word_index.get(word)\n",
    "        if index is not None and index < max_features:\n",
    "            encoded.append(index + 3)\n",
    "        else:\n",
    "            encoded.append(2)  # 2 = token \"unknown\"\n",
    "\n",
    "    # Appliquer le même padding que pour les données IMDB\n",
    "    return pad_sequences([encoded], maxlen=maxlen)"
   ]
  },
  {
   "cell_type": "code",
   "execution_count": 35,
   "id": "6701145c",
   "metadata": {},
   "outputs": [],
   "source": [
    "word_index = imdb.get_word_index()\n",
    "sample_text = \"Terrible pacing, awful script, and unwatchable performances.\"\n",
    "encoded_sample = encode_text(sample_text, word_index, maxlen=500)"
   ]
  },
  {
   "cell_type": "code",
   "execution_count": 36,
   "id": "fadccdad",
   "metadata": {},
   "outputs": [
    {
     "name": "stdout",
     "output_type": "stream",
     "text": [
      "\u001b[1m1/1\u001b[0m \u001b[32m━━━━━━━━━━━━━━━━━━━━\u001b[0m\u001b[37m\u001b[0m \u001b[1m0s\u001b[0m 488ms/step\n",
      "Probabilité de critique positive : 0.0000\n",
      "Prédiction finale : Négative\n"
     ]
    }
   ],
   "source": [
    "prediction = RNN_model.predict(encoded_sample)\n",
    "print(f\"Probabilité de critique positive : {prediction[0][0]:.4f}\")\n",
    "\n",
    "# Si seuil classique de 0.5\n",
    "result = 1 if prediction[0][0] >= 0.5 else 0\n",
    "print(f\"Prédiction finale : {'Positive' if result == 1 else 'Négative'}\")"
   ]
  },
  {
   "cell_type": "code",
   "execution_count": 37,
   "id": "9bc015d6",
   "metadata": {},
   "outputs": [],
   "source": [
    "RNN_model.save('RNN_ml2.keras')"
   ]
  }
 ],
 "metadata": {
  "kernelspec": {
   "display_name": "base",
   "language": "python",
   "name": "python3"
  },
  "language_info": {
   "codemirror_mode": {
    "name": "ipython",
    "version": 3
   },
   "file_extension": ".py",
   "mimetype": "text/x-python",
   "name": "python",
   "nbconvert_exporter": "python",
   "pygments_lexer": "ipython3",
   "version": "3.12.7"
  }
 },
 "nbformat": 4,
 "nbformat_minor": 5
}
